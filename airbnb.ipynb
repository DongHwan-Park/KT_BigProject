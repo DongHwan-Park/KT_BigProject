{
 "cells": [
  {
   "cell_type": "code",
   "execution_count": 12,
   "metadata": {},
   "outputs": [
    {
     "name": "stderr",
     "output_type": "stream",
     "text": [
      "C:\\Users\\PC\\AppData\\Local\\Temp\\ipykernel_7604\\3631456336.py:14: DeprecationWarning: executable_path has been deprecated, please pass in a Service object\n",
      "  driver = webdriver.Chrome('./chromedriver')\n"
     ]
    },
    {
     "name": "stdout",
     "output_type": "stream",
     "text": [
      "Cannot find load more button...\n",
      "Cannot find load more button...\n",
      "Cannot find load more button...\n",
      "Cannot find load more button...\n",
      "Cannot find load more button...\n",
      "Cannot find load more button...\n",
      "Cannot find load more button...\n",
      "Cannot find load more button...\n",
      "Cannot find load more button...\n",
      "Cannot find load more button...\n"
     ]
    },
    {
     "ename": "AttributeError",
     "evalue": "'WebDriver' object has no attribute 'find_elements_by_xpath'",
     "output_type": "error",
     "traceback": [
      "\u001b[1;31m---------------------------------------------------------------------------\u001b[0m",
      "\u001b[1;31mAttributeError\u001b[0m                            Traceback (most recent call last)",
      "Cell \u001b[1;32mIn [12], line 31\u001b[0m\n\u001b[0;32m     28\u001b[0m     \u001b[39mprint\u001b[39m(\u001b[39m'\u001b[39m\u001b[39mCannot find load more button...\u001b[39m\u001b[39m'\u001b[39m)\n\u001b[0;32m     30\u001b[0m \u001b[39m# get review containers\u001b[39;00m\n\u001b[1;32m---> 31\u001b[0m reviews \u001b[39m=\u001b[39m driver\u001b[39m.\u001b[39;49mfind_elements_by_xpath(\u001b[39m'\u001b[39m\u001b[39m//*[@jsname=\u001b[39m\u001b[39m\"\u001b[39m\u001b[39mfk8dgd\u001b[39m\u001b[39m\"\u001b[39m\u001b[39m]//div[@class=\u001b[39m\u001b[39m\"\u001b[39m\u001b[39md15Mdf bAhLNe\u001b[39m\u001b[39m\"\u001b[39m\u001b[39m]\u001b[39m\u001b[39m'\u001b[39m)\n\u001b[0;32m     33\u001b[0m \u001b[39mprint\u001b[39m(\u001b[39m'\u001b[39m\u001b[39mThere are \u001b[39m\u001b[39m%d\u001b[39;00m\u001b[39m reviews avaliable!\u001b[39m\u001b[39m'\u001b[39m \u001b[39m%\u001b[39m \u001b[39mlen\u001b[39m(reviews))\n\u001b[0;32m     34\u001b[0m \u001b[39mprint\u001b[39m(\u001b[39m'\u001b[39m\u001b[39mWriting the data...\u001b[39m\u001b[39m'\u001b[39m)\n",
      "\u001b[1;31mAttributeError\u001b[0m: 'WebDriver' object has no attribute 'find_elements_by_xpath'"
     ]
    }
   ],
   "source": [
    "from selenium import webdriver\n",
    "from bs4 import BeautifulSoup\n",
    "import time, os\n",
    "from datetime import datetime\n",
    "import pandas as pd\n",
    "\n",
    "# review link link\n",
    "link = 'https://play.google.com/store/apps/details?id=com.miso&hl=ko&showAllReviews=true'\n",
    "\n",
    "# how many scrolls we need\n",
    "scroll_cnt = 10\n",
    "\n",
    "# download chrome driver https://sites.google.com/a/chromium.org/chromedriver/home\n",
    "driver = webdriver.Chrome('./chromedriver')\n",
    "driver.get(link)\n",
    "\n",
    "os.makedirs('result', exist_ok=True)\n",
    "\n",
    "for i in range(scroll_cnt):\n",
    "  # scroll to bottom\n",
    "  driver.execute_script('window.scrollTo(0, document.body.scrollHeight);')\n",
    "  time.sleep(3)\n",
    "\n",
    "  # click 'Load more' button, if exists\n",
    "  try:\n",
    "    load_more = driver.find_element_by_xpath('//*[contains(@class,\"VfPpkd-vQzf8d\")]').click()\n",
    "  except:\n",
    "    print('Cannot find load more button...')\n",
    "\n",
    "# get review containers\n",
    "reviews = driver.find_elements_by_xpath('//*[@jsname=\"fk8dgd\"]//div[@class=\"d15Mdf bAhLNe\"]')\n",
    "\n",
    "print('There are %d reviews avaliable!' % len(reviews))\n",
    "print('Writing the data...')\n",
    "\n",
    "# create empty dataframe to store data\n",
    "df = pd.DataFrame(columns=['name', 'ratings', 'date', 'helpful', 'comment', 'developer_comment'])\n",
    "\n",
    "# get review data\n",
    "for review in reviews:\n",
    "  # parse string to html using bs4\n",
    "  soup = BeautifulSoup(review.get_attribute('innerHTML'), 'html.parser')\n",
    "\n",
    "  # reviewer\n",
    "  name = soup.find(class_='X43Kjb').text\n",
    "\n",
    "  # rating\n",
    "  ratings = int(soup.find('div', role='img').get('aria-label').replace('별표 5개 만점에', '').replace('개를 받았습니다.', '').strip())\n",
    "\n",
    "  # review date\n",
    "  date = soup.find(class_='p2TkOb').text\n",
    "  date = datetime.strptime(date, '%Y년 %m월 %d일')\n",
    "  date = date.strftime('%Y-%m-%d')\n",
    "\n",
    "  # helpful\n",
    "  helpful = soup.find(class_='jUL89d y92BAb').text\n",
    "  if not helpful:\n",
    "    helpful = 0\n",
    "  \n",
    "  # review text\n",
    "  comment = soup.find('span', jsname='fbQN7e').text\n",
    "  if not comment:\n",
    "    comment = soup.find('span', jsname='bN97Pc').text\n",
    "  \n",
    "  # developer comment\n",
    "  developer_comment = None\n",
    "  dc_div = soup.find('div', class_='LVQB0b')\n",
    "  if dc_div:\n",
    "    developer_comment = dc_div.text.replace('\\n', ' ')\n",
    "  \n",
    "  # append to dataframe\n",
    "  df = df.append({\n",
    "    'name': name,\n",
    "    'ratings': ratings,\n",
    "    'date': date,\n",
    "    'helpful': helpful,\n",
    "    'comment': comment,\n",
    "    'developer_comment': developer_comment\n",
    "  }, ignore_index=True)\n",
    "\n",
    "# finally save the dataframe into csv file\n",
    "filename = datetime.now().strftime('result/%Y-%m-%d_%H-%M-%S.csv')\n",
    "df.to_csv(filename, encoding='utf-8-sig', index=False)\n",
    "driver.stop_client()\n",
    "driver.close()\n",
    "\n",
    "print('Done!')"
   ]
  },
  {
   "cell_type": "code",
   "execution_count": null,
   "metadata": {},
   "outputs": [],
   "source": [
    "# Airbnb link\n",
    "url = 'https://www.airbnb.co.kr/'\n",
    "\n",
    "# how many scrolls we need \n",
    "scroll_cnt = 10\n",
    "\n",
    "# download chrome driver https://sites.google.com/a/chromium.org/chromedriver/home\n",
    "driver = webdriver.Chrome('./chromedriver')\n"
   ]
  }
 ],
 "metadata": {
  "kernelspec": {
   "display_name": "Python 3.10.3 64-bit",
   "language": "python",
   "name": "python3"
  },
  "language_info": {
   "codemirror_mode": {
    "name": "ipython",
    "version": 3
   },
   "file_extension": ".py",
   "mimetype": "text/x-python",
   "name": "python",
   "nbconvert_exporter": "python",
   "pygments_lexer": "ipython3",
   "version": "3.10.3"
  },
  "orig_nbformat": 4,
  "vscode": {
   "interpreter": {
    "hash": "26de051ba29f2982a8de78e945f0abaf191376122a1563185a90213a26c5da77"
   }
  }
 },
 "nbformat": 4,
 "nbformat_minor": 2
}
