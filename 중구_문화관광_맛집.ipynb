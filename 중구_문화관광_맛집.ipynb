{
 "cells": [
  {
   "cell_type": "code",
   "execution_count": 2,
   "metadata": {},
   "outputs": [
    {
     "data": {
      "text/html": [
       "<div>\n",
       "<style scoped>\n",
       "    .dataframe tbody tr th:only-of-type {\n",
       "        vertical-align: middle;\n",
       "    }\n",
       "\n",
       "    .dataframe tbody tr th {\n",
       "        vertical-align: top;\n",
       "    }\n",
       "\n",
       "    .dataframe thead th {\n",
       "        text-align: right;\n",
       "    }\n",
       "</style>\n",
       "<table border=\"1\" class=\"dataframe\">\n",
       "  <thead>\n",
       "    <tr style=\"text-align: right;\">\n",
       "      <th></th>\n",
       "      <th>분류1</th>\n",
       "      <th>명칭</th>\n",
       "      <th>도로명 주소</th>\n",
       "      <th>분류2</th>\n",
       "      <th>분류3</th>\n",
       "      <th>위도</th>\n",
       "      <th>경도</th>\n",
       "    </tr>\n",
       "  </thead>\n",
       "  <tbody>\n",
       "    <tr>\n",
       "      <th>0</th>\n",
       "      <td>맛집</td>\n",
       "      <td>전주중앙회관</td>\n",
       "      <td>중구 명동8나길 19</td>\n",
       "      <td>맛집</td>\n",
       "      <td>한식</td>\n",
       "      <td>37.561100</td>\n",
       "      <td>126.983738</td>\n",
       "    </tr>\n",
       "    <tr>\n",
       "      <th>1</th>\n",
       "      <td>맛집</td>\n",
       "      <td>전주풍남회관</td>\n",
       "      <td>중구 세종대로21길 48</td>\n",
       "      <td>맛집</td>\n",
       "      <td>한식</td>\n",
       "      <td>37.567614</td>\n",
       "      <td>126.975763</td>\n",
       "    </tr>\n",
       "    <tr>\n",
       "      <th>2</th>\n",
       "      <td>맛집</td>\n",
       "      <td>정성본샤브수끼</td>\n",
       "      <td>중구 을지로43길 30</td>\n",
       "      <td>맛집</td>\n",
       "      <td>한식</td>\n",
       "      <td>37.567008</td>\n",
       "      <td>127.007114</td>\n",
       "    </tr>\n",
       "    <tr>\n",
       "      <th>3</th>\n",
       "      <td>맛집</td>\n",
       "      <td>정통삼계탕</td>\n",
       "      <td>중구 수표로 72-4</td>\n",
       "      <td>맛집</td>\n",
       "      <td>한식</td>\n",
       "      <td>37.567547</td>\n",
       "      <td>126.989604</td>\n",
       "    </tr>\n",
       "    <tr>\n",
       "      <th>4</th>\n",
       "      <td>맛집</td>\n",
       "      <td>제일가든</td>\n",
       "      <td>중구 무교로 17-17</td>\n",
       "      <td>맛집</td>\n",
       "      <td>한식</td>\n",
       "      <td>37.567548</td>\n",
       "      <td>126.979104</td>\n",
       "    </tr>\n",
       "  </tbody>\n",
       "</table>\n",
       "</div>"
      ],
      "text/plain": [
       "  분류1       명칭         도로명 주소 분류2 분류3         위도          경도\n",
       "0  맛집   전주중앙회관    중구 명동8나길 19  맛집  한식  37.561100  126.983738\n",
       "1  맛집   전주풍남회관  중구 세종대로21길 48  맛집  한식  37.567614  126.975763\n",
       "2  맛집  정성본샤브수끼   중구 을지로43길 30  맛집  한식  37.567008  127.007114\n",
       "3  맛집    정통삼계탕    중구 수표로 72-4  맛집  한식  37.567547  126.989604\n",
       "4  맛집     제일가든   중구 무교로 17-17  맛집  한식  37.567548  126.979104"
      ]
     },
     "execution_count": 2,
     "metadata": {},
     "output_type": "execute_result"
    }
   ],
   "source": [
    "import pandas as pd\n",
    "data = pd.read_csv('데이터/중구_문화관광_맛집.csv')\n",
    "data.head()\n"
   ]
  },
  {
   "cell_type": "code",
   "execution_count": null,
   "metadata": {},
   "outputs": [],
   "source": []
  }
 ],
 "metadata": {
  "kernelspec": {
   "display_name": "Python 3",
   "language": "python",
   "name": "python3"
  },
  "language_info": {
   "codemirror_mode": {
    "name": "ipython",
    "version": 3
   },
   "file_extension": ".py",
   "mimetype": "text/x-python",
   "name": "python",
   "nbconvert_exporter": "python",
   "pygments_lexer": "ipython3",
   "version": "3.10.3"
  },
  "orig_nbformat": 4,
  "vscode": {
   "interpreter": {
    "hash": "26de051ba29f2982a8de78e945f0abaf191376122a1563185a90213a26c5da77"
   }
  }
 },
 "nbformat": 4,
 "nbformat_minor": 2
}
