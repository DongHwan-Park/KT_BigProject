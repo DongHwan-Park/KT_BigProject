{
 "cells": [
  {
   "cell_type": "code",
   "execution_count": 19,
   "metadata": {},
   "outputs": [
    {
     "name": "stdout",
     "output_type": "stream",
     "text": [
      "Defaulting to user installation because normal site-packages is not writeable\n",
      "Requirement already satisfied: geopandas in c:\\users\\pc\\appdata\\roaming\\python\\python310\\site-packages (0.12.2)\n",
      "Requirement already satisfied: shapely>=1.7 in c:\\users\\pc\\appdata\\roaming\\python\\python310\\site-packages (from geopandas) (1.8.2)\n",
      "Requirement already satisfied: packaging in c:\\users\\pc\\appdata\\roaming\\python\\python310\\site-packages (from geopandas) (21.3)\n",
      "Requirement already satisfied: pandas>=1.0.0 in c:\\users\\pc\\appdata\\roaming\\python\\python310\\site-packages (from geopandas) (1.4.4)\n",
      "Requirement already satisfied: fiona>=1.8 in c:\\users\\pc\\appdata\\roaming\\python\\python310\\site-packages (from geopandas) (1.8.21)\n",
      "Requirement already satisfied: pyproj>=2.6.1.post1 in c:\\users\\pc\\appdata\\roaming\\python\\python310\\site-packages (from geopandas) (3.4.0)\n",
      "Requirement already satisfied: attrs>=17 in c:\\users\\pc\\appdata\\roaming\\python\\python310\\site-packages (from fiona>=1.8->geopandas) (22.1.0)\n",
      "Requirement already satisfied: munch in c:\\users\\pc\\appdata\\roaming\\python\\python310\\site-packages (from fiona>=1.8->geopandas) (2.5.0)\n",
      "Requirement already satisfied: setuptools in c:\\users\\pc\\appdata\\roaming\\python\\python310\\site-packages (from fiona>=1.8->geopandas) (57.5.0)\n",
      "Requirement already satisfied: certifi in c:\\users\\pc\\appdata\\roaming\\python\\python310\\site-packages (from fiona>=1.8->geopandas) (2022.9.24)\n",
      "Requirement already satisfied: click>=4.0 in c:\\users\\pc\\appdata\\roaming\\python\\python310\\site-packages (from fiona>=1.8->geopandas) (8.1.3)\n",
      "Requirement already satisfied: cligj>=0.5 in c:\\users\\pc\\appdata\\roaming\\python\\python310\\site-packages (from fiona>=1.8->geopandas) (0.7.2)\n",
      "Requirement already satisfied: gdal~=3.4.3 in c:\\users\\pc\\appdata\\roaming\\python\\python310\\site-packages (from fiona>=1.8->geopandas) (3.4.3)\n",
      "Requirement already satisfied: six>=1.7 in c:\\users\\pc\\appdata\\roaming\\python\\python310\\site-packages (from fiona>=1.8->geopandas) (1.16.0)\n",
      "Requirement already satisfied: click-plugins>=1.0 in c:\\users\\pc\\appdata\\roaming\\python\\python310\\site-packages (from fiona>=1.8->geopandas) (1.1.1)\n",
      "Requirement already satisfied: python-dateutil>=2.8.1 in c:\\users\\pc\\appdata\\roaming\\python\\python310\\site-packages (from pandas>=1.0.0->geopandas) (2.8.2)\n",
      "Requirement already satisfied: pytz>=2020.1 in c:\\users\\pc\\appdata\\roaming\\python\\python310\\site-packages (from pandas>=1.0.0->geopandas) (2022.2.1)\n",
      "Requirement already satisfied: numpy>=1.21.0 in c:\\users\\pc\\appdata\\roaming\\python\\python310\\site-packages (from pandas>=1.0.0->geopandas) (1.22.3)\n",
      "Requirement already satisfied: pyparsing!=3.0.5,>=2.0.2 in c:\\users\\pc\\appdata\\roaming\\python\\python310\\site-packages (from packaging->geopandas) (3.0.9)\n",
      "Requirement already satisfied: colorama in c:\\users\\pc\\appdata\\roaming\\python\\python310\\site-packages (from click>=4.0->fiona>=1.8->geopandas) (0.4.5)\n",
      "Note: you may need to restart the kernel to use updated packages.\n"
     ]
    }
   ],
   "source": [
    "# pip install geopandas"
   ]
  },
  {
   "cell_type": "code",
   "execution_count": 16,
   "metadata": {},
   "outputs": [
    {
     "name": "stdout",
     "output_type": "stream",
     "text": [
      "Defaulting to user installation because normal site-packages is not writeableNote: you may need to restart the kernel to use updated packages.\n",
      "\n",
      "Processing c:\\users\\pc\\desktop\\geopandas라이브러리\\shapely-1.8.2-cp310-cp310-win_amd64.whl\n",
      "Installing collected packages: Shapely\n",
      "  Attempting uninstall: Shapely\n",
      "    Found existing installation: Shapely 1.8.5.post1\n",
      "    Uninstalling Shapely-1.8.5.post1:\n",
      "      Successfully uninstalled Shapely-1.8.5.post1\n",
      "Successfully installed Shapely-1.8.2\n"
     ]
    }
   ],
   "source": [
    "# pip install C:/Users/PC/Desktop/geopandas라이브러리/Shapely-1.8.2-cp310-cp310-win_amd64.whl"
   ]
  },
  {
   "cell_type": "code",
   "execution_count": 17,
   "metadata": {},
   "outputs": [
    {
     "name": "stdout",
     "output_type": "stream",
     "text": [
      "Defaulting to user installation because normal site-packages is not writeable\n",
      "Processing c:\\users\\pc\\desktop\\geopandas라이브러리\\gdal-3.4.3-cp310-cp310-win_amd64.whl\n",
      "Installing collected packages: GDAL\n",
      "Successfully installed GDAL-3.4.3\n",
      "Note: you may need to restart the kernel to use updated packages.\n"
     ]
    }
   ],
   "source": [
    "# pip install C:/Users/PC/Desktop/geopandas라이브러리/GDAL-3.4.3-cp310-cp310-win_amd64.whl"
   ]
  },
  {
   "cell_type": "code",
   "execution_count": 18,
   "metadata": {},
   "outputs": [
    {
     "name": "stdout",
     "output_type": "stream",
     "text": [
      "Note: you may need to restart the kernel to use updated packages.Defaulting to user installation because normal site-packages is not writeable\n",
      "Processing c:\\users\\pc\\desktop\\geopandas라이브러리\\fiona-1.8.21-cp310-cp310-win_amd64.whl\n",
      "Requirement already satisfied: cligj>=0.5 in c:\\users\\pc\\appdata\\roaming\\python\\python310\\site-packages (from Fiona==1.8.21) (0.7.2)\n",
      "Requirement already satisfied: click-plugins>=1.0 in c:\\users\\pc\\appdata\\roaming\\python\\python310\\site-packages (from Fiona==1.8.21) (1.1.1)\n",
      "Requirement already satisfied: attrs>=17 in c:\\users\\pc\\appdata\\roaming\\python\\python310\\site-packages (from Fiona==1.8.21) (22.1.0)\n",
      "Requirement already satisfied: setuptools in c:\\users\\pc\\appdata\\roaming\\python\\python310\\site-packages (from Fiona==1.8.21) (57.5.0)\n",
      "Requirement already satisfied: six>=1.7 in c:\\users\\pc\\appdata\\roaming\\python\\python310\\site-packages (from Fiona==1.8.21) (1.16.0)\n",
      "Requirement already satisfied: click>=4.0 in c:\\users\\pc\\appdata\\roaming\\python\\python310\\site-packages (from Fiona==1.8.21) (8.1.3)\n",
      "Requirement already satisfied: gdal~=3.4.3 in c:\\users\\pc\\appdata\\roaming\\python\\python310\\site-packages (from Fiona==1.8.21) (3.4.3)\n",
      "Requirement already satisfied: munch in c:\\users\\pc\\appdata\\roaming\\python\\python310\\site-packages (from Fiona==1.8.21) (2.5.0)\n",
      "Requirement already satisfied: certifi in c:\\users\\pc\\appdata\\roaming\\python\\python310\\site-packages (from Fiona==1.8.21) (2022.9.24)\n",
      "Requirement already satisfied: colorama in c:\\users\\pc\\appdata\\roaming\\python\\python310\\site-packages (from click>=4.0->Fiona==1.8.21) (0.4.5)\n",
      "Installing collected packages: Fiona\n",
      "  Attempting uninstall: Fiona\n",
      "    Found existing installation: Fiona 1.8.22\n",
      "    Uninstalling Fiona-1.8.22:\n",
      "      Successfully uninstalled Fiona-1.8.22\n",
      "Successfully installed Fiona-1.8.21\n",
      "\n"
     ]
    },
    {
     "name": "stderr",
     "output_type": "stream",
     "text": [
      "  WARNING: The script fio.exe is installed in 'C:\\Users\\PC\\AppData\\Roaming\\Python\\Python310\\Scripts' which is not on PATH.\n",
      "  Consider adding this directory to PATH or, if you prefer to suppress this warning, use --no-warn-script-location.\n"
     ]
    }
   ],
   "source": [
    "# pip install C:/Users/PC/Desktop/geopandas라이브러리/Fiona-1.8.21-cp310-cp310-win_amd64.whl"
   ]
  },
  {
   "cell_type": "code",
   "execution_count": 43,
   "metadata": {},
   "outputs": [],
   "source": [
    "# 라이브러리\n",
    "import geopandas as gpd\n",
    "from shapely.geometry import Polygon, LineString, Point\n",
    "import matplotlib.pyplot as plt\n",
    "import pandas as pd\n",
    "import warnings \n",
    "warnings.filterwarnings(action='ignore')"
   ]
  },
  {
   "cell_type": "code",
   "execution_count": 24,
   "metadata": {},
   "outputs": [
    {
     "data": {
      "text/html": [
       "<div>\n",
       "<style scoped>\n",
       "    .dataframe tbody tr th:only-of-type {\n",
       "        vertical-align: middle;\n",
       "    }\n",
       "\n",
       "    .dataframe tbody tr th {\n",
       "        vertical-align: top;\n",
       "    }\n",
       "\n",
       "    .dataframe thead th {\n",
       "        text-align: right;\n",
       "    }\n",
       "</style>\n",
       "<table border=\"1\" class=\"dataframe\">\n",
       "  <thead>\n",
       "    <tr style=\"text-align: right;\">\n",
       "      <th></th>\n",
       "      <th>단지명</th>\n",
       "      <th>전용면적</th>\n",
       "      <th>계약년월</th>\n",
       "      <th>계약일</th>\n",
       "      <th>보증금(만)</th>\n",
       "      <th>월세(만)</th>\n",
       "      <th>층</th>\n",
       "      <th>위도</th>\n",
       "      <th>경도</th>\n",
       "      <th>지하철역</th>\n",
       "      <th>지하철까지거리m</th>\n",
       "      <th>500m내음식점갯수</th>\n",
       "    </tr>\n",
       "  </thead>\n",
       "  <tbody>\n",
       "    <tr>\n",
       "      <th>1365</th>\n",
       "      <td>청계천두산위브더제니스</td>\n",
       "      <td>146.9679</td>\n",
       "      <td>202203</td>\n",
       "      <td>31</td>\n",
       "      <td>10,500</td>\n",
       "      <td>378</td>\n",
       "      <td>28</td>\n",
       "      <td>37.566868</td>\n",
       "      <td>127.017123</td>\n",
       "      <td>신당역</td>\n",
       "      <td>117.139901</td>\n",
       "      <td>159</td>\n",
       "    </tr>\n",
       "    <tr>\n",
       "      <th>1366</th>\n",
       "      <td>청계천두산위브더제니스</td>\n",
       "      <td>46.7350</td>\n",
       "      <td>202208</td>\n",
       "      <td>31</td>\n",
       "      <td>10,000</td>\n",
       "      <td>250</td>\n",
       "      <td>14</td>\n",
       "      <td>37.566868</td>\n",
       "      <td>127.017123</td>\n",
       "      <td>신당역</td>\n",
       "      <td>117.139901</td>\n",
       "      <td>159</td>\n",
       "    </tr>\n",
       "    <tr>\n",
       "      <th>1367</th>\n",
       "      <td>청계천두산위브더제니스</td>\n",
       "      <td>46.7350</td>\n",
       "      <td>202209</td>\n",
       "      <td>6</td>\n",
       "      <td>20,000</td>\n",
       "      <td>400</td>\n",
       "      <td>22</td>\n",
       "      <td>37.566868</td>\n",
       "      <td>127.017123</td>\n",
       "      <td>신당역</td>\n",
       "      <td>117.139901</td>\n",
       "      <td>159</td>\n",
       "    </tr>\n",
       "    <tr>\n",
       "      <th>1368</th>\n",
       "      <td>청계천두산위브더제니스</td>\n",
       "      <td>46.7350</td>\n",
       "      <td>202210</td>\n",
       "      <td>14</td>\n",
       "      <td>5,000</td>\n",
       "      <td>260</td>\n",
       "      <td>11</td>\n",
       "      <td>37.566868</td>\n",
       "      <td>127.017123</td>\n",
       "      <td>신당역</td>\n",
       "      <td>117.139901</td>\n",
       "      <td>159</td>\n",
       "    </tr>\n",
       "    <tr>\n",
       "      <th>1369</th>\n",
       "      <td>청계천두산위브더제니스</td>\n",
       "      <td>173.1707</td>\n",
       "      <td>202210</td>\n",
       "      <td>19</td>\n",
       "      <td>70,000</td>\n",
       "      <td>350</td>\n",
       "      <td>27</td>\n",
       "      <td>37.566868</td>\n",
       "      <td>127.017123</td>\n",
       "      <td>신당역</td>\n",
       "      <td>117.139901</td>\n",
       "      <td>159</td>\n",
       "    </tr>\n",
       "  </tbody>\n",
       "</table>\n",
       "</div>"
      ],
      "text/plain": [
       "              단지명      전용면적    계약년월  계약일  보증금(만)  월세(만)   층         위도  \\\n",
       "1365  청계천두산위브더제니스  146.9679  202203   31  10,500    378  28  37.566868   \n",
       "1366  청계천두산위브더제니스   46.7350  202208   31  10,000    250  14  37.566868   \n",
       "1367  청계천두산위브더제니스   46.7350  202209    6  20,000    400  22  37.566868   \n",
       "1368  청계천두산위브더제니스   46.7350  202210   14   5,000    260  11  37.566868   \n",
       "1369  청계천두산위브더제니스  173.1707  202210   19  70,000    350  27  37.566868   \n",
       "\n",
       "              경도 지하철역    지하철까지거리m  500m내음식점갯수  \n",
       "1365  127.017123  신당역  117.139901         159  \n",
       "1366  127.017123  신당역  117.139901         159  \n",
       "1367  127.017123  신당역  117.139901         159  \n",
       "1368  127.017123  신당역  117.139901         159  \n",
       "1369  127.017123  신당역  117.139901         159  "
      ]
     },
     "execution_count": 24,
     "metadata": {},
     "output_type": "execute_result"
    }
   ],
   "source": [
    "# \n",
    "data_origin = pd.read_csv('데이터/data_지하철_음식점.csv')\n",
    "data = data_origin.copy()\n",
    "data.tail()"
   ]
  },
  {
   "cell_type": "code",
   "execution_count": 40,
   "metadata": {},
   "outputs": [
    {
     "name": "stderr",
     "output_type": "stream",
     "text": [
      "C:\\Users\\PC\\AppData\\Roaming\\Python\\Python310\\site-packages\\pandas\\core\\dtypes\\cast.py:122: ShapelyDeprecationWarning: The array interface is deprecated and will no longer work in Shapely 2.0. Convert the '.coords' to a numpy array instead.\n",
      "  arr = construct_1d_object_array_from_listlike(values)\n"
     ]
    },
    {
     "data": {
      "text/html": [
       "<div>\n",
       "<style scoped>\n",
       "    .dataframe tbody tr th:only-of-type {\n",
       "        vertical-align: middle;\n",
       "    }\n",
       "\n",
       "    .dataframe tbody tr th {\n",
       "        vertical-align: top;\n",
       "    }\n",
       "\n",
       "    .dataframe thead th {\n",
       "        text-align: right;\n",
       "    }\n",
       "</style>\n",
       "<table border=\"1\" class=\"dataframe\">\n",
       "  <thead>\n",
       "    <tr style=\"text-align: right;\">\n",
       "      <th></th>\n",
       "      <th>단지명</th>\n",
       "      <th>전용면적</th>\n",
       "      <th>계약년월</th>\n",
       "      <th>계약일</th>\n",
       "      <th>보증금(만)</th>\n",
       "      <th>월세(만)</th>\n",
       "      <th>층</th>\n",
       "      <th>위도</th>\n",
       "      <th>경도</th>\n",
       "      <th>지하철역</th>\n",
       "      <th>지하철까지거리m</th>\n",
       "      <th>500m내음식점갯수</th>\n",
       "      <th>geometry</th>\n",
       "    </tr>\n",
       "  </thead>\n",
       "  <tbody>\n",
       "    <tr>\n",
       "      <th>0</th>\n",
       "      <td>남산트라팰리스</td>\n",
       "      <td>116.11</td>\n",
       "      <td>202201</td>\n",
       "      <td>10</td>\n",
       "      <td>20,000</td>\n",
       "      <td>450</td>\n",
       "      <td>24</td>\n",
       "      <td>37.553995</td>\n",
       "      <td>126.975613</td>\n",
       "      <td>서울역</td>\n",
       "      <td>300.405119</td>\n",
       "      <td>54</td>\n",
       "      <td>POINT (126.97561 37.55399)</td>\n",
       "    </tr>\n",
       "    <tr>\n",
       "      <th>1</th>\n",
       "      <td>남산트라팰리스</td>\n",
       "      <td>116.11</td>\n",
       "      <td>202201</td>\n",
       "      <td>21</td>\n",
       "      <td>1,000</td>\n",
       "      <td>347</td>\n",
       "      <td>26</td>\n",
       "      <td>37.553995</td>\n",
       "      <td>126.975613</td>\n",
       "      <td>서울역</td>\n",
       "      <td>300.405119</td>\n",
       "      <td>54</td>\n",
       "      <td>POINT (126.97561 37.55399)</td>\n",
       "    </tr>\n",
       "    <tr>\n",
       "      <th>2</th>\n",
       "      <td>남산트라팰리스</td>\n",
       "      <td>148.47</td>\n",
       "      <td>202201</td>\n",
       "      <td>28</td>\n",
       "      <td>0</td>\n",
       "      <td>675</td>\n",
       "      <td>31</td>\n",
       "      <td>37.553995</td>\n",
       "      <td>126.975613</td>\n",
       "      <td>서울역</td>\n",
       "      <td>300.405119</td>\n",
       "      <td>54</td>\n",
       "      <td>POINT (126.97561 37.55399)</td>\n",
       "    </tr>\n",
       "    <tr>\n",
       "      <th>3</th>\n",
       "      <td>남산트라팰리스</td>\n",
       "      <td>126.78</td>\n",
       "      <td>202204</td>\n",
       "      <td>13</td>\n",
       "      <td>0</td>\n",
       "      <td>500</td>\n",
       "      <td>6</td>\n",
       "      <td>37.553995</td>\n",
       "      <td>126.975613</td>\n",
       "      <td>서울역</td>\n",
       "      <td>300.405119</td>\n",
       "      <td>54</td>\n",
       "      <td>POINT (126.97561 37.55399)</td>\n",
       "    </tr>\n",
       "    <tr>\n",
       "      <th>4</th>\n",
       "      <td>남산트라팰리스</td>\n",
       "      <td>116.11</td>\n",
       "      <td>202208</td>\n",
       "      <td>10</td>\n",
       "      <td>0</td>\n",
       "      <td>493</td>\n",
       "      <td>22</td>\n",
       "      <td>37.553995</td>\n",
       "      <td>126.975613</td>\n",
       "      <td>서울역</td>\n",
       "      <td>300.405119</td>\n",
       "      <td>54</td>\n",
       "      <td>POINT (126.97561 37.55399)</td>\n",
       "    </tr>\n",
       "  </tbody>\n",
       "</table>\n",
       "</div>"
      ],
      "text/plain": [
       "       단지명    전용면적    계약년월  계약일  보증금(만)  월세(만)   층         위도          경도  \\\n",
       "0  남산트라팰리스  116.11  202201   10  20,000    450  24  37.553995  126.975613   \n",
       "1  남산트라팰리스  116.11  202201   21   1,000    347  26  37.553995  126.975613   \n",
       "2  남산트라팰리스  148.47  202201   28       0    675  31  37.553995  126.975613   \n",
       "3  남산트라팰리스  126.78  202204   13       0    500   6  37.553995  126.975613   \n",
       "4  남산트라팰리스  116.11  202208   10       0    493  22  37.553995  126.975613   \n",
       "\n",
       "  지하철역    지하철까지거리m  500m내음식점갯수                    geometry  \n",
       "0  서울역  300.405119          54  POINT (126.97561 37.55399)  \n",
       "1  서울역  300.405119          54  POINT (126.97561 37.55399)  \n",
       "2  서울역  300.405119          54  POINT (126.97561 37.55399)  \n",
       "3  서울역  300.405119          54  POINT (126.97561 37.55399)  \n",
       "4  서울역  300.405119          54  POINT (126.97561 37.55399)  "
      ]
     },
     "execution_count": 40,
     "metadata": {},
     "output_type": "execute_result"
    }
   ],
   "source": [
    "data['geometry'] = data.apply(lambda row : Point([row['경도'], row['위도']]), axis=1)\n",
    "data = gpd.GeoDataFrame(data, geometry='geometry')\n",
    "data.head()"
   ]
  },
  {
   "cell_type": "code",
   "execution_count": 67,
   "metadata": {},
   "outputs": [
    {
     "data": {
      "text/html": [
       "<div>\n",
       "<style scoped>\n",
       "    .dataframe tbody tr th:only-of-type {\n",
       "        vertical-align: middle;\n",
       "    }\n",
       "\n",
       "    .dataframe tbody tr th {\n",
       "        vertical-align: top;\n",
       "    }\n",
       "\n",
       "    .dataframe thead th {\n",
       "        text-align: right;\n",
       "    }\n",
       "</style>\n",
       "<table border=\"1\" class=\"dataframe\">\n",
       "  <thead>\n",
       "    <tr style=\"text-align: right;\">\n",
       "      <th></th>\n",
       "      <th>SIG_CD</th>\n",
       "      <th>SIG_ENG_NM</th>\n",
       "      <th>SIG_KOR_NM</th>\n",
       "      <th>geometry</th>\n",
       "    </tr>\n",
       "  </thead>\n",
       "  <tbody>\n",
       "    <tr>\n",
       "      <th>0</th>\n",
       "      <td>11110</td>\n",
       "      <td>Jongno-gu</td>\n",
       "      <td>종로구</td>\n",
       "      <td>POLYGON ((956615.453 1953567.199, 956621.579 1...</td>\n",
       "    </tr>\n",
       "    <tr>\n",
       "      <th>1</th>\n",
       "      <td>11140</td>\n",
       "      <td>Jung-gu</td>\n",
       "      <td>중구</td>\n",
       "      <td>POLYGON ((957890.386 1952616.746, 957909.908 1...</td>\n",
       "    </tr>\n",
       "    <tr>\n",
       "      <th>2</th>\n",
       "      <td>11170</td>\n",
       "      <td>Yongsan-gu</td>\n",
       "      <td>용산구</td>\n",
       "      <td>POLYGON ((953115.761 1950834.084, 953114.206 1...</td>\n",
       "    </tr>\n",
       "    <tr>\n",
       "      <th>3</th>\n",
       "      <td>11200</td>\n",
       "      <td>Seongdong-gu</td>\n",
       "      <td>성동구</td>\n",
       "      <td>POLYGON ((959681.109 1952649.605, 959842.412 1...</td>\n",
       "    </tr>\n",
       "    <tr>\n",
       "      <th>4</th>\n",
       "      <td>11215</td>\n",
       "      <td>Gwangjin-gu</td>\n",
       "      <td>광진구</td>\n",
       "      <td>POLYGON ((964825.058 1952633.250, 964875.565 1...</td>\n",
       "    </tr>\n",
       "  </tbody>\n",
       "</table>\n",
       "</div>"
      ],
      "text/plain": [
       "  SIG_CD    SIG_ENG_NM SIG_KOR_NM  \\\n",
       "0  11110     Jongno-gu        종로구   \n",
       "1  11140       Jung-gu         중구   \n",
       "2  11170    Yongsan-gu        용산구   \n",
       "3  11200  Seongdong-gu        성동구   \n",
       "4  11215   Gwangjin-gu        광진구   \n",
       "\n",
       "                                            geometry  \n",
       "0  POLYGON ((956615.453 1953567.199, 956621.579 1...  \n",
       "1  POLYGON ((957890.386 1952616.746, 957909.908 1...  \n",
       "2  POLYGON ((953115.761 1950834.084, 953114.206 1...  \n",
       "3  POLYGON ((959681.109 1952649.605, 959842.412 1...  \n",
       "4  POLYGON ((964825.058 1952633.250, 964875.565 1...  "
      ]
     },
     "execution_count": 67,
     "metadata": {},
     "output_type": "execute_result"
    }
   ],
   "source": [
    "jido = gpd.GeoDataFrame.from_file('데이터/시군구/sig.shp', encoding='cp949')\n",
    "jido.head()"
   ]
  },
  {
   "cell_type": "code",
   "execution_count": 68,
   "metadata": {},
   "outputs": [
    {
     "data": {
      "text/html": [
       "<div>\n",
       "<style scoped>\n",
       "    .dataframe tbody tr th:only-of-type {\n",
       "        vertical-align: middle;\n",
       "    }\n",
       "\n",
       "    .dataframe tbody tr th {\n",
       "        vertical-align: top;\n",
       "    }\n",
       "\n",
       "    .dataframe thead th {\n",
       "        text-align: right;\n",
       "    }\n",
       "</style>\n",
       "<table border=\"1\" class=\"dataframe\">\n",
       "  <thead>\n",
       "    <tr style=\"text-align: right;\">\n",
       "      <th></th>\n",
       "      <th>SIG_CD</th>\n",
       "      <th>SIG_ENG_NM</th>\n",
       "      <th>SIG_KOR_NM</th>\n",
       "      <th>geometry</th>\n",
       "    </tr>\n",
       "  </thead>\n",
       "  <tbody>\n",
       "    <tr>\n",
       "      <th>1</th>\n",
       "      <td>11140</td>\n",
       "      <td>Jung-gu</td>\n",
       "      <td>중구</td>\n",
       "      <td>POLYGON ((957890.386 1952616.746, 957909.908 1...</td>\n",
       "    </tr>\n",
       "  </tbody>\n",
       "</table>\n",
       "</div>"
      ],
      "text/plain": [
       "  SIG_CD SIG_ENG_NM SIG_KOR_NM  \\\n",
       "1  11140    Jung-gu         중구   \n",
       "\n",
       "                                            geometry  \n",
       "1  POLYGON ((957890.386 1952616.746, 957909.908 1...  "
      ]
     },
     "execution_count": 68,
     "metadata": {},
     "output_type": "execute_result"
    }
   ],
   "source": [
    "jido = jido.loc[jido['SIG_CD']== '11140']\n",
    "jido"
   ]
  },
  {
   "cell_type": "code",
   "execution_count": 69,
   "metadata": {},
   "outputs": [
    {
     "name": "stdout",
     "output_type": "stream",
     "text": [
      "None\n",
      "+init=epsg:4326 +type=crs\n"
     ]
    }
   ],
   "source": [
    "print(jido.crs)\n",
    "print(data.crs)"
   ]
  },
  {
   "cell_type": "code",
   "execution_count": 44,
   "metadata": {},
   "outputs": [],
   "source": [
    "data.crs = {'init':'epsg:4326'}"
   ]
  },
  {
   "cell_type": "code",
   "execution_count": 76,
   "metadata": {},
   "outputs": [],
   "source": [
    "data = data.to_crs({'init':'epsg:5179'})"
   ]
  },
  {
   "cell_type": "code",
   "execution_count": 70,
   "metadata": {},
   "outputs": [],
   "source": [
    "jido.crs = {'init': 'epsg:5179'}"
   ]
  },
  {
   "cell_type": "code",
   "execution_count": null,
   "metadata": {},
   "outputs": [],
   "source": []
  },
  {
   "cell_type": "code",
   "execution_count": 77,
   "metadata": {},
   "outputs": [
    {
     "data": {
      "image/png": "[encoded data removed]",
      "text/plain": [
       "<Figure size 800x800 with 1 Axes>"
      ]
     },
     "metadata": {},
     "output_type": "display_data"
    }
   ],
   "source": [
    "ax = jido.plot(column=\"SIG_KOR_NM\", figsize=(8,8), alpha=0.8)\n",
    "data.plot(ax=ax, marker='v', color= 'black', label = 'house')\n",
    "ax.set_title('Junggu',fontsize = 20)\n",
    "ax.set_axis_off()\n",
    "plt.legend()\n",
    "plt.show()"
   ]
  },
  {
   "cell_type": "code",
   "execution_count": 88,
   "metadata": {},
   "outputs": [
    {
     "data": {
      "image/png": "[encoded data removed]",
      "text/plain": [
       "<Figure size 800x800 with 1 Axes>"
      ]
     },
     "metadata": {},
     "output_type": "display_data"
    }
   ],
   "source": [
    "buffer_house = gpd.GeoDataFrame({'geometry' : data.buffer(500)})\n",
    "\n",
    "ax = jido.plot(column=\"SIG_KOR_NM\", figsize=(8,8), alpha=0.8)\n",
    "data.plot(ax=ax, marker='v', color= 'black', label = 'house')\n",
    "buffer_house.boundary.plot(ax =ax, color = 'red')\n",
    "ax.set_title('Junggu',fontsize = 20)\n",
    "ax.set_axis_off()\n",
    "# plt.legend()\n",
    "plt.show()\n"
   ]
  },
  {
   "cell_type": "markdown",
   "metadata": {},
   "source": [
    "# 버스"
   ]
  },
  {
   "cell_type": "code",
   "execution_count": 98,
   "metadata": {},
   "outputs": [
    {
     "data": {
      "text/html": [
       "<div>\n",
       "<style scoped>\n",
       "    .dataframe tbody tr th:only-of-type {\n",
       "        vertical-align: middle;\n",
       "    }\n",
       "\n",
       "    .dataframe tbody tr th {\n",
       "        vertical-align: top;\n",
       "    }\n",
       "\n",
       "    .dataframe thead th {\n",
       "        text-align: right;\n",
       "    }\n",
       "</style>\n",
       "<table border=\"1\" class=\"dataframe\">\n",
       "  <thead>\n",
       "    <tr style=\"text-align: right;\">\n",
       "      <th></th>\n",
       "      <th>정류장번호</th>\n",
       "      <th>정류장명</th>\n",
       "      <th>정류장_위도</th>\n",
       "      <th>정류장_경도</th>\n",
       "      <th>geometry</th>\n",
       "    </tr>\n",
       "  </thead>\n",
       "  <tbody>\n",
       "    <tr>\n",
       "      <th>0</th>\n",
       "      <td>SEB100000001</td>\n",
       "      <td>종로2가사거리</td>\n",
       "      <td>37.569765</td>\n",
       "      <td>126.987750</td>\n",
       "      <td>POINT (126.98775 37.56977)</td>\n",
       "    </tr>\n",
       "    <tr>\n",
       "      <th>1</th>\n",
       "      <td>SEB100000002</td>\n",
       "      <td>창경궁.서울대학교병원</td>\n",
       "      <td>37.579183</td>\n",
       "      <td>126.996566</td>\n",
       "      <td>POINT (126.99657 37.57918)</td>\n",
       "    </tr>\n",
       "    <tr>\n",
       "      <th>2</th>\n",
       "      <td>SEB100000003</td>\n",
       "      <td>명륜3가.성대입구</td>\n",
       "      <td>37.582671</td>\n",
       "      <td>126.998340</td>\n",
       "      <td>POINT (126.99834 37.58267)</td>\n",
       "    </tr>\n",
       "    <tr>\n",
       "      <th>3</th>\n",
       "      <td>SEB100000004</td>\n",
       "      <td>종로2가.삼일교</td>\n",
       "      <td>37.568579</td>\n",
       "      <td>126.987613</td>\n",
       "      <td>POINT (126.98761 37.56858)</td>\n",
       "    </tr>\n",
       "    <tr>\n",
       "      <th>4</th>\n",
       "      <td>SEB100000005</td>\n",
       "      <td>혜화동로터리.여운형활동터</td>\n",
       "      <td>37.586243</td>\n",
       "      <td>127.001744</td>\n",
       "      <td>POINT (127.00174 37.58624)</td>\n",
       "    </tr>\n",
       "  </tbody>\n",
       "</table>\n",
       "</div>"
      ],
      "text/plain": [
       "          정류장번호           정류장명     정류장_위도      정류장_경도  \\\n",
       "0  SEB100000001        종로2가사거리  37.569765  126.987750   \n",
       "1  SEB100000002    창경궁.서울대학교병원  37.579183  126.996566   \n",
       "2  SEB100000003      명륜3가.성대입구  37.582671  126.998340   \n",
       "3  SEB100000004       종로2가.삼일교  37.568579  126.987613   \n",
       "4  SEB100000005  혜화동로터리.여운형활동터  37.586243  127.001744   \n",
       "\n",
       "                     geometry  \n",
       "0  POINT (126.98775 37.56977)  \n",
       "1  POINT (126.99657 37.57918)  \n",
       "2  POINT (126.99834 37.58267)  \n",
       "3  POINT (126.98761 37.56858)  \n",
       "4  POINT (127.00174 37.58624)  "
      ]
     },
     "execution_count": 98,
     "metadata": {},
     "output_type": "execute_result"
    }
   ],
   "source": [
    "bus = pd.read_csv('데이터/서울_버스정류장_위경도.csv')\n",
    "bus['geometry'] = bus.apply(lambda row : Point([row['정류장_경도'], row['정류장_위도']]), axis=1)\n",
    "\n",
    "bus = gpd.GeoDataFrame(bus, geometry='geometry')\n",
    "bus.head()"
   ]
  },
  {
   "cell_type": "code",
   "execution_count": 99,
   "metadata": {},
   "outputs": [],
   "source": [
    "bus.crs = {'init':'epsg:4326'}\n",
    "bus = bus.to_crs({'init':'epsg:5179'})"
   ]
  },
  {
   "cell_type": "code",
   "execution_count": 100,
   "metadata": {},
   "outputs": [
    {
     "data": {
      "text/html": [
       "<div>\n",
       "<style scoped>\n",
       "    .dataframe tbody tr th:only-of-type {\n",
       "        vertical-align: middle;\n",
       "    }\n",
       "\n",
       "    .dataframe tbody tr th {\n",
       "        vertical-align: top;\n",
       "    }\n",
       "\n",
       "    .dataframe thead th {\n",
       "        text-align: right;\n",
       "    }\n",
       "</style>\n",
       "<table border=\"1\" class=\"dataframe\">\n",
       "  <thead>\n",
       "    <tr style=\"text-align: right;\">\n",
       "      <th></th>\n",
       "      <th>정류장명</th>\n",
       "      <th>geometry</th>\n",
       "    </tr>\n",
       "  </thead>\n",
       "  <tbody>\n",
       "    <tr>\n",
       "      <th>0</th>\n",
       "      <td>종로2가사거리</td>\n",
       "      <td>POINT (954764.170 1952389.590)</td>\n",
       "    </tr>\n",
       "    <tr>\n",
       "      <th>1</th>\n",
       "      <td>창경궁.서울대학교병원</td>\n",
       "      <td>POINT (955548.315 1953430.252)</td>\n",
       "    </tr>\n",
       "    <tr>\n",
       "      <th>2</th>\n",
       "      <td>명륜3가.성대입구</td>\n",
       "      <td>POINT (955707.030 1953816.403)</td>\n",
       "    </tr>\n",
       "    <tr>\n",
       "      <th>3</th>\n",
       "      <td>종로2가.삼일교</td>\n",
       "      <td>POINT (954751.372 1952258.086)</td>\n",
       "    </tr>\n",
       "    <tr>\n",
       "      <th>4</th>\n",
       "      <td>혜화동로터리.여운형활동터</td>\n",
       "      <td>POINT (956009.674 1954211.089)</td>\n",
       "    </tr>\n",
       "  </tbody>\n",
       "</table>\n",
       "</div>"
      ],
      "text/plain": [
       "            정류장명                        geometry\n",
       "0        종로2가사거리  POINT (954764.170 1952389.590)\n",
       "1    창경궁.서울대학교병원  POINT (955548.315 1953430.252)\n",
       "2      명륜3가.성대입구  POINT (955707.030 1953816.403)\n",
       "3       종로2가.삼일교  POINT (954751.372 1952258.086)\n",
       "4  혜화동로터리.여운형활동터  POINT (956009.674 1954211.089)"
      ]
     },
     "execution_count": 100,
     "metadata": {},
     "output_type": "execute_result"
    }
   ],
   "source": [
    "del_cols = ['정류장번호','정류장_위도','정류장_경도']\n",
    "bus = bus.drop(columns=del_cols, axis = 1)\n",
    "bus.head()"
   ]
  },
  {
   "cell_type": "markdown",
   "metadata": {},
   "source": []
  },
  {
   "cell_type": "code",
   "execution_count": 124,
   "metadata": {},
   "outputs": [
    {
     "name": "stdout",
     "output_type": "stream",
     "text": [
      "+init=epsg:5179 +type=crs\n",
      "+init=epsg:4326 +type=crs\n"
     ]
    }
   ],
   "source": [
    "print(data.crs)\n",
    "print(bus.crs)"
   ]
  },
  {
   "cell_type": "code",
   "execution_count": 126,
   "metadata": {},
   "outputs": [],
   "source": [
    "data = data.to_crs({'init':'epsg:4326'})"
   ]
  },
  {
   "cell_type": "code",
   "execution_count": null,
   "metadata": {},
   "outputs": [],
   "source": [
    "dist = bus.to_crs(epsg=5186).geometry.distance()"
   ]
  },
  {
   "cell_type": "code",
   "execution_count": 110,
   "metadata": {},
   "outputs": [],
   "source": [
    "example_dist = data.geometry.distance(bus.geometry)"
   ]
  },
  {
   "cell_type": "code",
   "execution_count": 114,
   "metadata": {},
   "outputs": [
    {
     "data": {
      "text/plain": [
       "991.6475894596889"
      ]
     },
     "execution_count": 114,
     "metadata": {},
     "output_type": "execute_result"
    }
   ],
   "source": [
    "exam = data.geometry.distance(bus.iloc[0].geometry)\n",
    "exam.min()"
   ]
  },
  {
   "cell_type": "code",
   "execution_count": 118,
   "metadata": {},
   "outputs": [
    {
     "data": {
      "text/plain": [
       "정류장명                                             종로2가사거리\n",
       "geometry    POINT (954764.1697777972 1952389.5896184691)\n",
       "Name: 0, dtype: object"
      ]
     },
     "execution_count": 118,
     "metadata": {},
     "output_type": "execute_result"
    }
   ],
   "source": [
    "bus.iloc[0]"
   ]
  },
  {
   "cell_type": "code",
   "execution_count": 122,
   "metadata": {},
   "outputs": [
    {
     "data": {
      "text/plain": [
       "정류장명                               종로2가사거리\n",
       "geometry    POINT (126.9877498 37.5697651)\n",
       "Name: 0, dtype: object"
      ]
     },
     "execution_count": 122,
     "metadata": {},
     "output_type": "execute_result"
    }
   ],
   "source": [
    "bus = bus.to_crs({'init':'epsg:4326'})\n",
    "bus.iloc[0]"
   ]
  },
  {
   "cell_type": "code",
   "execution_count": 117,
   "metadata": {},
   "outputs": [
    {
     "data": {
      "text/plain": [
       "단지명                                                  신성아파트\n",
       "전용면적                                                 42.31\n",
       "계약년월                                                202202\n",
       "계약일                                                     18\n",
       "보증금(만)                                               1,000\n",
       "월세(만)                                                   60\n",
       "층                                                        7\n",
       "위도                                               37.563546\n",
       "경도                                              126.995815\n",
       "지하철역                                                  충무로역\n",
       "지하철까지거리m                                        280.859801\n",
       "500m내음식점갯수                                             233\n",
       "geometry      POINT (955472.6918375045 1951695.7874618068)\n",
       "Name: 799, dtype: object"
      ]
     },
     "execution_count": 117,
     "metadata": {},
     "output_type": "execute_result"
    }
   ],
   "source": [
    "exam_dis = data.to_crs(epsg=5186).geometry.distance(bus.to_crs(epsg=5186).iloc[0].geometry)\n",
    "cloest_bus = data.iloc[exam_dis.idxmin()]\n",
    "cloest_bus"
   ]
  },
  {
   "cell_type": "code",
   "execution_count": 129,
   "metadata": {},
   "outputs": [
    {
     "data": {
      "text/html": [
       "<div>\n",
       "<style scoped>\n",
       "    .dataframe tbody tr th:only-of-type {\n",
       "        vertical-align: middle;\n",
       "    }\n",
       "\n",
       "    .dataframe tbody tr th {\n",
       "        vertical-align: top;\n",
       "    }\n",
       "\n",
       "    .dataframe thead th {\n",
       "        text-align: right;\n",
       "    }\n",
       "</style>\n",
       "<table border=\"1\" class=\"dataframe\">\n",
       "  <thead>\n",
       "    <tr style=\"text-align: right;\">\n",
       "      <th></th>\n",
       "      <th>정류장명</th>\n",
       "      <th>geometry</th>\n",
       "    </tr>\n",
       "  </thead>\n",
       "  <tbody>\n",
       "    <tr>\n",
       "      <th>12938</th>\n",
       "      <td>청계산(경유)</td>\n",
       "      <td>POINT (127.06053 37.44019)</td>\n",
       "    </tr>\n",
       "    <tr>\n",
       "      <th>12939</th>\n",
       "      <td>판교IC(경유)</td>\n",
       "      <td>POINT (127.10057 37.39999)</td>\n",
       "    </tr>\n",
       "    <tr>\n",
       "      <th>12940</th>\n",
       "      <td>판교IC(경유)</td>\n",
       "      <td>POINT (127.09847 37.40155)</td>\n",
       "    </tr>\n",
       "    <tr>\n",
       "      <th>12941</th>\n",
       "      <td>오도삼거리(경유)</td>\n",
       "      <td>POINT (126.72858 37.74449)</td>\n",
       "    </tr>\n",
       "    <tr>\n",
       "      <th>12942</th>\n",
       "      <td>난방공사(경유)</td>\n",
       "      <td>POINT (126.71858 37.73611)</td>\n",
       "    </tr>\n",
       "  </tbody>\n",
       "</table>\n",
       "</div>"
      ],
      "text/plain": [
       "            정류장명                    geometry\n",
       "12938    청계산(경유)  POINT (127.06053 37.44019)\n",
       "12939   판교IC(경유)  POINT (127.10057 37.39999)\n",
       "12940   판교IC(경유)  POINT (127.09847 37.40155)\n",
       "12941  오도삼거리(경유)  POINT (126.72858 37.74449)\n",
       "12942   난방공사(경유)  POINT (126.71858 37.73611)"
      ]
     },
     "execution_count": 129,
     "metadata": {},
     "output_type": "execute_result"
    }
   ],
   "source": [
    "bus.tail()"
   ]
  },
  {
   "cell_type": "code",
   "execution_count": 140,
   "metadata": {},
   "outputs": [],
   "source": [
    "jido = jido.to_crs({'init':'epsg:4326'})"
   ]
  },
  {
   "cell_type": "code",
   "execution_count": 146,
   "metadata": {},
   "outputs": [
    {
     "data": {
      "text/plain": [
       "False    12943\n",
       "dtype: int64"
      ]
     },
     "execution_count": 146,
     "metadata": {},
     "output_type": "execute_result"
    }
   ],
   "source": [
    "bus.to_crs(epsg=5179).geometry.within(jido.to_crs(epsg=5179).geometry).value_counts()"
   ]
  },
  {
   "cell_type": "code",
   "execution_count": 147,
   "metadata": {},
   "outputs": [
    {
     "data": {
      "text/plain": [
       "False    12943\n",
       "dtype: int64"
      ]
     },
     "execution_count": 147,
     "metadata": {},
     "output_type": "execute_result"
    }
   ],
   "source": [
    "bus.geometry(lambda x ).intersects(jido.geometry).value_counts()"
   ]
  },
  {
   "cell_type": "code",
   "execution_count": 139,
   "metadata": {},
   "outputs": [
    {
     "data": {
      "text/plain": [
       "0        POINT (126.98775 37.56977)\n",
       "1        POINT (126.99657 37.57918)\n",
       "2        POINT (126.99834 37.58267)\n",
       "3        POINT (126.98761 37.56858)\n",
       "4        POINT (127.00174 37.58624)\n",
       "                    ...            \n",
       "12938    POINT (127.06053 37.44019)\n",
       "12939    POINT (127.10057 37.39999)\n",
       "12940    POINT (127.09847 37.40155)\n",
       "12941    POINT (126.72858 37.74449)\n",
       "12942    POINT (126.71858 37.73611)\n",
       "Name: geometry, Length: 12943, dtype: geometry"
      ]
     },
     "execution_count": 139,
     "metadata": {},
     "output_type": "execute_result"
    }
   ],
   "source": [
    "bus.geometry"
   ]
  },
  {
   "cell_type": "code",
   "execution_count": 138,
   "metadata": {},
   "outputs": [
    {
     "data": {
      "text/plain": [
       "1    POLYGON ((957890.386 1952616.746, 957909.908 1...\n",
       "Name: geometry, dtype: geometry"
      ]
     },
     "execution_count": 138,
     "metadata": {},
     "output_type": "execute_result"
    }
   ],
   "source": [
    "jido.geometry"
   ]
  },
  {
   "cell_type": "code",
   "execution_count": 128,
   "metadata": {},
   "outputs": [
    {
     "ename": "KeyboardInterrupt",
     "evalue": "",
     "output_type": "error",
     "traceback": [
      "\u001b[1;31m---------------------------------------------------------------------------\u001b[0m",
      "\u001b[1;31mKeyboardInterrupt\u001b[0m                         Traceback (most recent call last)",
      "Cell \u001b[1;32mIn [128], line 5\u001b[0m\n\u001b[0;32m      2\u001b[0m     distances \u001b[39m=\u001b[39m  bus\u001b[39m.\u001b[39mto_crs(epsg\u001b[39m=\u001b[39m\u001b[39m5186\u001b[39m)\u001b[39m.\u001b[39mgeometry\u001b[39m.\u001b[39mdistance(point_geometry)\n\u001b[0;32m      3\u001b[0m     \u001b[39mreturn\u001b[39;00m bus\u001b[39m.\u001b[39miloc[distances\u001b[39m.\u001b[39midxmin()]\n\u001b[1;32m----> 5\u001b[0m data[\u001b[39m'\u001b[39m\u001b[39m지하철거리\u001b[39m\u001b[39m'\u001b[39m] \u001b[39m=\u001b[39m data\u001b[39m.\u001b[39;49mto_crs(epsg\u001b[39m=\u001b[39;49m\u001b[39m5186\u001b[39;49m)\u001b[39m.\u001b[39;49mapply(\u001b[39mlambda\u001b[39;49;00m x: cloest_bus(x\u001b[39m.\u001b[39;49mgeometry), axis\u001b[39m=\u001b[39;49m\u001b[39m1\u001b[39;49m)\n\u001b[0;32m      6\u001b[0m data\n",
      "File \u001b[1;32m~\\AppData\\Roaming\\Python\\Python310\\site-packages\\geopandas\\geodataframe.py:1482\u001b[0m, in \u001b[0;36mGeoDataFrame.apply\u001b[1;34m(self, func, axis, raw, result_type, args, **kwargs)\u001b[0m\n\u001b[0;32m   1480\u001b[0m \u001b[39m@doc\u001b[39m(pd\u001b[39m.\u001b[39mDataFrame)\n\u001b[0;32m   1481\u001b[0m \u001b[39mdef\u001b[39;00m \u001b[39mapply\u001b[39m(\u001b[39mself\u001b[39m, func, axis\u001b[39m=\u001b[39m\u001b[39m0\u001b[39m, raw\u001b[39m=\u001b[39m\u001b[39mFalse\u001b[39;00m, result_type\u001b[39m=\u001b[39m\u001b[39mNone\u001b[39;00m, args\u001b[39m=\u001b[39m(), \u001b[39m*\u001b[39m\u001b[39m*\u001b[39mkwargs):\n\u001b[1;32m-> 1482\u001b[0m     result \u001b[39m=\u001b[39m \u001b[39msuper\u001b[39m()\u001b[39m.\u001b[39mapply(\n\u001b[0;32m   1483\u001b[0m         func, axis\u001b[39m=\u001b[39maxis, raw\u001b[39m=\u001b[39mraw, result_type\u001b[39m=\u001b[39mresult_type, args\u001b[39m=\u001b[39margs, \u001b[39m*\u001b[39m\u001b[39m*\u001b[39mkwargs\n\u001b[0;32m   1484\u001b[0m     )\n\u001b[0;32m   1485\u001b[0m     \u001b[39m# Reconstruct gdf if it was lost by apply\u001b[39;00m\n\u001b[0;32m   1486\u001b[0m     \u001b[39mif\u001b[39;00m (\n\u001b[0;32m   1487\u001b[0m         \u001b[39misinstance\u001b[39m(result, DataFrame)\n\u001b[0;32m   1488\u001b[0m         \u001b[39mand\u001b[39;00m \u001b[39mself\u001b[39m\u001b[39m.\u001b[39m_geometry_column_name \u001b[39min\u001b[39;00m result\u001b[39m.\u001b[39mcolumns\n\u001b[0;32m   1489\u001b[0m     ):\n\u001b[0;32m   1490\u001b[0m         \u001b[39m# axis=1 apply will split GeometryDType to object, try and cast back\u001b[39;00m\n",
      "File \u001b[1;32m~\\AppData\\Roaming\\Python\\Python310\\site-packages\\pandas\\core\\frame.py:8848\u001b[0m, in \u001b[0;36mDataFrame.apply\u001b[1;34m(self, func, axis, raw, result_type, args, **kwargs)\u001b[0m\n\u001b[0;32m   8837\u001b[0m \u001b[39mfrom\u001b[39;00m \u001b[39mpandas\u001b[39;00m\u001b[39m.\u001b[39;00m\u001b[39mcore\u001b[39;00m\u001b[39m.\u001b[39;00m\u001b[39mapply\u001b[39;00m \u001b[39mimport\u001b[39;00m frame_apply\n\u001b[0;32m   8839\u001b[0m op \u001b[39m=\u001b[39m frame_apply(\n\u001b[0;32m   8840\u001b[0m     \u001b[39mself\u001b[39m,\n\u001b[0;32m   8841\u001b[0m     func\u001b[39m=\u001b[39mfunc,\n\u001b[1;32m   (...)\u001b[0m\n\u001b[0;32m   8846\u001b[0m     kwargs\u001b[39m=\u001b[39mkwargs,\n\u001b[0;32m   8847\u001b[0m )\n\u001b[1;32m-> 8848\u001b[0m \u001b[39mreturn\u001b[39;00m op\u001b[39m.\u001b[39;49mapply()\u001b[39m.\u001b[39m__finalize__(\u001b[39mself\u001b[39m, method\u001b[39m=\u001b[39m\u001b[39m\"\u001b[39m\u001b[39mapply\u001b[39m\u001b[39m\"\u001b[39m)\n",
      "File \u001b[1;32m~\\AppData\\Roaming\\Python\\Python310\\site-packages\\pandas\\core\\apply.py:733\u001b[0m, in \u001b[0;36mFrameApply.apply\u001b[1;34m(self)\u001b[0m\n\u001b[0;32m    730\u001b[0m \u001b[39melif\u001b[39;00m \u001b[39mself\u001b[39m\u001b[39m.\u001b[39mraw:\n\u001b[0;32m    731\u001b[0m     \u001b[39mreturn\u001b[39;00m \u001b[39mself\u001b[39m\u001b[39m.\u001b[39mapply_raw()\n\u001b[1;32m--> 733\u001b[0m \u001b[39mreturn\u001b[39;00m \u001b[39mself\u001b[39;49m\u001b[39m.\u001b[39;49mapply_standard()\n",
      "File \u001b[1;32m~\\AppData\\Roaming\\Python\\Python310\\site-packages\\pandas\\core\\apply.py:857\u001b[0m, in \u001b[0;36mFrameApply.apply_standard\u001b[1;34m(self)\u001b[0m\n\u001b[0;32m    856\u001b[0m \u001b[39mdef\u001b[39;00m \u001b[39mapply_standard\u001b[39m(\u001b[39mself\u001b[39m):\n\u001b[1;32m--> 857\u001b[0m     results, res_index \u001b[39m=\u001b[39m \u001b[39mself\u001b[39;49m\u001b[39m.\u001b[39;49mapply_series_generator()\n\u001b[0;32m    859\u001b[0m     \u001b[39m# wrap results\u001b[39;00m\n\u001b[0;32m    860\u001b[0m     \u001b[39mreturn\u001b[39;00m \u001b[39mself\u001b[39m\u001b[39m.\u001b[39mwrap_results(results, res_index)\n",
      "File \u001b[1;32m~\\AppData\\Roaming\\Python\\Python310\\site-packages\\pandas\\core\\apply.py:873\u001b[0m, in \u001b[0;36mFrameApply.apply_series_generator\u001b[1;34m(self)\u001b[0m\n\u001b[0;32m    870\u001b[0m \u001b[39mwith\u001b[39;00m option_context(\u001b[39m\"\u001b[39m\u001b[39mmode.chained_assignment\u001b[39m\u001b[39m\"\u001b[39m, \u001b[39mNone\u001b[39;00m):\n\u001b[0;32m    871\u001b[0m     \u001b[39mfor\u001b[39;00m i, v \u001b[39min\u001b[39;00m \u001b[39menumerate\u001b[39m(series_gen):\n\u001b[0;32m    872\u001b[0m         \u001b[39m# ignore SettingWithCopy here in case the user mutates\u001b[39;00m\n\u001b[1;32m--> 873\u001b[0m         results[i] \u001b[39m=\u001b[39m \u001b[39mself\u001b[39;49m\u001b[39m.\u001b[39;49mf(v)\n\u001b[0;32m    874\u001b[0m         \u001b[39mif\u001b[39;00m \u001b[39misinstance\u001b[39m(results[i], ABCSeries):\n\u001b[0;32m    875\u001b[0m             \u001b[39m# If we have a view on v, we need to make a copy because\u001b[39;00m\n\u001b[0;32m    876\u001b[0m             \u001b[39m#  series_generator will swap out the underlying data\u001b[39;00m\n\u001b[0;32m    877\u001b[0m             results[i] \u001b[39m=\u001b[39m results[i]\u001b[39m.\u001b[39mcopy(deep\u001b[39m=\u001b[39m\u001b[39mFalse\u001b[39;00m)\n",
      "Cell \u001b[1;32mIn [128], line 5\u001b[0m, in \u001b[0;36m<lambda>\u001b[1;34m(x)\u001b[0m\n\u001b[0;32m      2\u001b[0m     distances \u001b[39m=\u001b[39m  bus\u001b[39m.\u001b[39mto_crs(epsg\u001b[39m=\u001b[39m\u001b[39m5186\u001b[39m)\u001b[39m.\u001b[39mgeometry\u001b[39m.\u001b[39mdistance(point_geometry)\n\u001b[0;32m      3\u001b[0m     \u001b[39mreturn\u001b[39;00m bus\u001b[39m.\u001b[39miloc[distances\u001b[39m.\u001b[39midxmin()]\n\u001b[1;32m----> 5\u001b[0m data[\u001b[39m'\u001b[39m\u001b[39m지하철거리\u001b[39m\u001b[39m'\u001b[39m] \u001b[39m=\u001b[39m data\u001b[39m.\u001b[39mto_crs(epsg\u001b[39m=\u001b[39m\u001b[39m5186\u001b[39m)\u001b[39m.\u001b[39mapply(\u001b[39mlambda\u001b[39;00m x: cloest_bus(x\u001b[39m.\u001b[39;49mgeometry), axis\u001b[39m=\u001b[39m\u001b[39m1\u001b[39m)\n\u001b[0;32m      6\u001b[0m data\n",
      "Cell \u001b[1;32mIn [128], line 2\u001b[0m, in \u001b[0;36mcloest_bus\u001b[1;34m(point_geometry)\u001b[0m\n\u001b[0;32m      1\u001b[0m \u001b[39mdef\u001b[39;00m \u001b[39mcloest_bus\u001b[39m(point_geometry):\n\u001b[1;32m----> 2\u001b[0m     distances \u001b[39m=\u001b[39m  bus\u001b[39m.\u001b[39;49mto_crs(epsg\u001b[39m=\u001b[39;49m\u001b[39m5186\u001b[39;49m)\u001b[39m.\u001b[39mgeometry\u001b[39m.\u001b[39mdistance(point_geometry)\n\u001b[0;32m      3\u001b[0m     \u001b[39mreturn\u001b[39;00m bus\u001b[39m.\u001b[39miloc[distances\u001b[39m.\u001b[39midxmin()]\n",
      "File \u001b[1;32m~\\AppData\\Roaming\\Python\\Python310\\site-packages\\geopandas\\geodataframe.py:1364\u001b[0m, in \u001b[0;36mGeoDataFrame.to_crs\u001b[1;34m(self, crs, epsg, inplace)\u001b[0m\n\u001b[0;32m   1362\u001b[0m \u001b[39melse\u001b[39;00m:\n\u001b[0;32m   1363\u001b[0m     df \u001b[39m=\u001b[39m \u001b[39mself\u001b[39m\u001b[39m.\u001b[39mcopy()\n\u001b[1;32m-> 1364\u001b[0m geom \u001b[39m=\u001b[39m df\u001b[39m.\u001b[39;49mgeometry\u001b[39m.\u001b[39;49mto_crs(crs\u001b[39m=\u001b[39;49mcrs, epsg\u001b[39m=\u001b[39;49mepsg)\n\u001b[0;32m   1365\u001b[0m df\u001b[39m.\u001b[39mgeometry \u001b[39m=\u001b[39m geom\n\u001b[0;32m   1366\u001b[0m \u001b[39mif\u001b[39;00m \u001b[39mnot\u001b[39;00m inplace:\n",
      "File \u001b[1;32m~\\AppData\\Roaming\\Python\\Python310\\site-packages\\geopandas\\geoseries.py:1124\u001b[0m, in \u001b[0;36mGeoSeries.to_crs\u001b[1;34m(self, crs, epsg)\u001b[0m\n\u001b[0;32m   1047\u001b[0m \u001b[39mdef\u001b[39;00m \u001b[39mto_crs\u001b[39m(\u001b[39mself\u001b[39m, crs\u001b[39m=\u001b[39m\u001b[39mNone\u001b[39;00m, epsg\u001b[39m=\u001b[39m\u001b[39mNone\u001b[39;00m):\n\u001b[0;32m   1048\u001b[0m     \u001b[39m\"\"\"Returns a ``GeoSeries`` with all geometries transformed to a new\u001b[39;00m\n\u001b[0;32m   1049\u001b[0m \u001b[39m    coordinate reference system.\u001b[39;00m\n\u001b[0;32m   1050\u001b[0m \n\u001b[1;32m   (...)\u001b[0m\n\u001b[0;32m   1121\u001b[0m \n\u001b[0;32m   1122\u001b[0m \u001b[39m    \"\"\"\u001b[39;00m\n\u001b[0;32m   1123\u001b[0m     \u001b[39mreturn\u001b[39;00m GeoSeries(\n\u001b[1;32m-> 1124\u001b[0m         \u001b[39mself\u001b[39;49m\u001b[39m.\u001b[39;49mvalues\u001b[39m.\u001b[39;49mto_crs(crs\u001b[39m=\u001b[39;49mcrs, epsg\u001b[39m=\u001b[39;49mepsg), index\u001b[39m=\u001b[39m\u001b[39mself\u001b[39m\u001b[39m.\u001b[39mindex, name\u001b[39m=\u001b[39m\u001b[39mself\u001b[39m\u001b[39m.\u001b[39mname\n\u001b[0;32m   1125\u001b[0m     )\n",
      "File \u001b[1;32m~\\AppData\\Roaming\\Python\\Python310\\site-packages\\geopandas\\array.py:779\u001b[0m, in \u001b[0;36mGeometryArray.to_crs\u001b[1;34m(self, crs, epsg)\u001b[0m\n\u001b[0;32m    775\u001b[0m     \u001b[39mreturn\u001b[39;00m \u001b[39mself\u001b[39m\n\u001b[0;32m    777\u001b[0m transformer \u001b[39m=\u001b[39m Transformer\u001b[39m.\u001b[39mfrom_crs(\u001b[39mself\u001b[39m\u001b[39m.\u001b[39mcrs, crs, always_xy\u001b[39m=\u001b[39m\u001b[39mTrue\u001b[39;00m)\n\u001b[1;32m--> 779\u001b[0m new_data \u001b[39m=\u001b[39m vectorized\u001b[39m.\u001b[39;49mtransform(\u001b[39mself\u001b[39;49m\u001b[39m.\u001b[39;49mdata, transformer\u001b[39m.\u001b[39;49mtransform)\n\u001b[0;32m    780\u001b[0m \u001b[39mreturn\u001b[39;00m GeometryArray(new_data, crs\u001b[39m=\u001b[39mcrs)\n",
      "File \u001b[1;32m~\\AppData\\Roaming\\Python\\Python310\\site-packages\\geopandas\\_vectorized.py:1128\u001b[0m, in \u001b[0;36mtransform\u001b[1;34m(data, func)\u001b[0m\n\u001b[0;32m   1126\u001b[0m         result[i] \u001b[39m=\u001b[39m geom\n\u001b[0;32m   1127\u001b[0m     \u001b[39melse\u001b[39;00m:\n\u001b[1;32m-> 1128\u001b[0m         result[i] \u001b[39m=\u001b[39m transform(func, geom)\n\u001b[0;32m   1130\u001b[0m \u001b[39mreturn\u001b[39;00m result\n",
      "File \u001b[1;32m~\\AppData\\Roaming\\Python\\Python310\\site-packages\\shapely\\ops.py:302\u001b[0m, in \u001b[0;36mtransform\u001b[1;34m(func, geom)\u001b[0m\n\u001b[0;32m    300\u001b[0m \u001b[39mtry\u001b[39;00m:\n\u001b[0;32m    301\u001b[0m     \u001b[39mif\u001b[39;00m geom\u001b[39m.\u001b[39mtype \u001b[39min\u001b[39;00m (\u001b[39m'\u001b[39m\u001b[39mPoint\u001b[39m\u001b[39m'\u001b[39m, \u001b[39m'\u001b[39m\u001b[39mLineString\u001b[39m\u001b[39m'\u001b[39m, \u001b[39m'\u001b[39m\u001b[39mLinearRing\u001b[39m\u001b[39m'\u001b[39m):\n\u001b[1;32m--> 302\u001b[0m         \u001b[39mreturn\u001b[39;00m \u001b[39mtype\u001b[39;49m(geom)(\u001b[39mzip\u001b[39;49m(\u001b[39m*\u001b[39;49mfunc(\u001b[39m*\u001b[39;49m\u001b[39mzip\u001b[39;49m(\u001b[39m*\u001b[39;49mgeom\u001b[39m.\u001b[39;49mcoords))))\n\u001b[0;32m    303\u001b[0m     \u001b[39melif\u001b[39;00m geom\u001b[39m.\u001b[39mtype \u001b[39m==\u001b[39m \u001b[39m'\u001b[39m\u001b[39mPolygon\u001b[39m\u001b[39m'\u001b[39m:\n\u001b[0;32m    304\u001b[0m         shell \u001b[39m=\u001b[39m \u001b[39mtype\u001b[39m(geom\u001b[39m.\u001b[39mexterior)(\n\u001b[0;32m    305\u001b[0m             \u001b[39mzip\u001b[39m(\u001b[39m*\u001b[39mfunc(\u001b[39m*\u001b[39m\u001b[39mzip\u001b[39m(\u001b[39m*\u001b[39mgeom\u001b[39m.\u001b[39mexterior\u001b[39m.\u001b[39mcoords))))\n",
      "File \u001b[1;32m~\\AppData\\Roaming\\Python\\Python310\\site-packages\\shapely\\geometry\\point.py:51\u001b[0m, in \u001b[0;36mPoint.__init__\u001b[1;34m(self, *args)\u001b[0m\n\u001b[0;32m     49\u001b[0m \u001b[39mif\u001b[39;00m \u001b[39mlen\u001b[39m(args) \u001b[39m>\u001b[39m \u001b[39m0\u001b[39m:\n\u001b[0;32m     50\u001b[0m     \u001b[39mif\u001b[39;00m \u001b[39mlen\u001b[39m(args) \u001b[39m==\u001b[39m \u001b[39m1\u001b[39m:\n\u001b[1;32m---> 51\u001b[0m         geom, n \u001b[39m=\u001b[39m geos_point_from_py(args[\u001b[39m0\u001b[39;49m])\n\u001b[0;32m     52\u001b[0m     \u001b[39melif\u001b[39;00m \u001b[39mlen\u001b[39m(args) \u001b[39m>\u001b[39m \u001b[39m3\u001b[39m:\n\u001b[0;32m     53\u001b[0m         \u001b[39mraise\u001b[39;00m \u001b[39mTypeError\u001b[39;00m(\n\u001b[0;32m     54\u001b[0m             \u001b[39m\"\u001b[39m\u001b[39mPoint() takes at most 3 arguments (\u001b[39m\u001b[39m{}\u001b[39;00m\u001b[39m given)\u001b[39m\u001b[39m\"\u001b[39m\u001b[39m.\u001b[39mformat(\u001b[39mlen\u001b[39m(args))\n\u001b[0;32m     55\u001b[0m         )\n",
      "File \u001b[1;32m~\\AppData\\Roaming\\Python\\Python310\\site-packages\\shapely\\geometry\\point.py:275\u001b[0m, in \u001b[0;36mgeos_point_from_py\u001b[1;34m(ob, update_geom, update_ndim)\u001b[0m\n\u001b[0;32m    271\u001b[0m         \u001b[39mraise\u001b[39;00m \u001b[39mValueError\u001b[39;00m(\n\u001b[0;32m    272\u001b[0m             \u001b[39m\"\u001b[39m\u001b[39mWrong coordinate dimensions; this geometry has dimensions: \u001b[39m\u001b[39m\"\u001b[39m\n\u001b[0;32m    273\u001b[0m             \u001b[39m\"\u001b[39m\u001b[39m%d\u001b[39;00m\u001b[39m\"\u001b[39m \u001b[39m%\u001b[39m update_ndim)\n\u001b[0;32m    274\u001b[0m \u001b[39melse\u001b[39;00m:\n\u001b[1;32m--> 275\u001b[0m     cs \u001b[39m=\u001b[39m lgeos\u001b[39m.\u001b[39;49mGEOSCoordSeq_create(\u001b[39m1\u001b[39;49m, n)\n\u001b[0;32m    277\u001b[0m \u001b[39m# Because of a bug in the GEOS C API, always set X before Y\u001b[39;00m\n\u001b[0;32m    278\u001b[0m lgeos\u001b[39m.\u001b[39mGEOSCoordSeq_setX(cs, \u001b[39m0\u001b[39m, dx)\n",
      "\u001b[1;31mKeyboardInterrupt\u001b[0m: "
     ]
    }
   ],
   "source": [
    "def cloest_bus(point_geometry):\n",
    "    distances =  bus.to_crs(epsg=5186).geometry.distance(point_geometry)\n",
    "    return bus.iloc[distances.idxmin()]\n",
    "\n",
    "data['지하철거리'] = data.to_crs(epsg=5186).apply(lambda x: cloest_bus(x.geometry), axis=1)\n",
    "data\n",
    "\n",
    "\n",
    "\n"
   ]
  },
  {
   "cell_type": "code",
   "execution_count": 109,
   "metadata": {},
   "outputs": [
    {
     "ename": "ValueError",
     "evalue": "Expected a 1D array, got an array with shape (1370, 13)",
     "output_type": "error",
     "traceback": [
      "\u001b[1;31m---------------------------------------------------------------------------\u001b[0m",
      "\u001b[1;31mKeyError\u001b[0m                                  Traceback (most recent call last)",
      "File \u001b[1;32m~\\AppData\\Roaming\\Python\\Python310\\site-packages\\pandas\\core\\indexes\\base.py:3629\u001b[0m, in \u001b[0;36mIndex.get_loc\u001b[1;34m(self, key, method, tolerance)\u001b[0m\n\u001b[0;32m   3628\u001b[0m \u001b[39mtry\u001b[39;00m:\n\u001b[1;32m-> 3629\u001b[0m     \u001b[39mreturn\u001b[39;00m \u001b[39mself\u001b[39;49m\u001b[39m.\u001b[39;49m_engine\u001b[39m.\u001b[39;49mget_loc(casted_key)\n\u001b[0;32m   3630\u001b[0m \u001b[39mexcept\u001b[39;00m \u001b[39mKeyError\u001b[39;00m \u001b[39mas\u001b[39;00m err:\n",
      "File \u001b[1;32m~\\AppData\\Roaming\\Python\\Python310\\site-packages\\pandas\\_libs\\index.pyx:136\u001b[0m, in \u001b[0;36mpandas._libs.index.IndexEngine.get_loc\u001b[1;34m()\u001b[0m\n",
      "File \u001b[1;32m~\\AppData\\Roaming\\Python\\Python310\\site-packages\\pandas\\_libs\\index.pyx:163\u001b[0m, in \u001b[0;36mpandas._libs.index.IndexEngine.get_loc\u001b[1;34m()\u001b[0m\n",
      "File \u001b[1;32mpandas\\_libs\\hashtable_class_helper.pxi:5198\u001b[0m, in \u001b[0;36mpandas._libs.hashtable.PyObjectHashTable.get_item\u001b[1;34m()\u001b[0m\n",
      "File \u001b[1;32mpandas\\_libs\\hashtable_class_helper.pxi:5206\u001b[0m, in \u001b[0;36mpandas._libs.hashtable.PyObjectHashTable.get_item\u001b[1;34m()\u001b[0m\n",
      "\u001b[1;31mKeyError\u001b[0m: '가장 가까운 버스정류장'",
      "\nThe above exception was the direct cause of the following exception:\n",
      "\u001b[1;31mKeyError\u001b[0m                                  Traceback (most recent call last)",
      "File \u001b[1;32m~\\AppData\\Roaming\\Python\\Python310\\site-packages\\pandas\\core\\frame.py:3799\u001b[0m, in \u001b[0;36mDataFrame._set_item_mgr\u001b[1;34m(self, key, value)\u001b[0m\n\u001b[0;32m   3798\u001b[0m \u001b[39mtry\u001b[39;00m:\n\u001b[1;32m-> 3799\u001b[0m     loc \u001b[39m=\u001b[39m \u001b[39mself\u001b[39;49m\u001b[39m.\u001b[39;49m_info_axis\u001b[39m.\u001b[39;49mget_loc(key)\n\u001b[0;32m   3800\u001b[0m \u001b[39mexcept\u001b[39;00m \u001b[39mKeyError\u001b[39;00m:\n\u001b[0;32m   3801\u001b[0m     \u001b[39m# This item wasn't present, just insert at end\u001b[39;00m\n",
      "File \u001b[1;32m~\\AppData\\Roaming\\Python\\Python310\\site-packages\\pandas\\core\\indexes\\base.py:3631\u001b[0m, in \u001b[0;36mIndex.get_loc\u001b[1;34m(self, key, method, tolerance)\u001b[0m\n\u001b[0;32m   3630\u001b[0m \u001b[39mexcept\u001b[39;00m \u001b[39mKeyError\u001b[39;00m \u001b[39mas\u001b[39;00m err:\n\u001b[1;32m-> 3631\u001b[0m     \u001b[39mraise\u001b[39;00m \u001b[39mKeyError\u001b[39;00m(key) \u001b[39mfrom\u001b[39;00m \u001b[39merr\u001b[39;00m\n\u001b[0;32m   3632\u001b[0m \u001b[39mexcept\u001b[39;00m \u001b[39mTypeError\u001b[39;00m:\n\u001b[0;32m   3633\u001b[0m     \u001b[39m# If we have a listlike key, _check_indexing_error will raise\u001b[39;00m\n\u001b[0;32m   3634\u001b[0m     \u001b[39m#  InvalidIndexError. Otherwise we fall through and re-raise\u001b[39;00m\n\u001b[0;32m   3635\u001b[0m     \u001b[39m#  the TypeError.\u001b[39;00m\n",
      "\u001b[1;31mKeyError\u001b[0m: '가장 가까운 버스정류장'",
      "\nDuring handling of the above exception, another exception occurred:\n",
      "\u001b[1;31mValueError\u001b[0m                                Traceback (most recent call last)",
      "Cell \u001b[1;32mIn [109], line 5\u001b[0m\n\u001b[0;32m      2\u001b[0m     distances \u001b[39m=\u001b[39m data\u001b[39m.\u001b[39mgeometry\u001b[39m.\u001b[39mdistance(point_geometry)\n\u001b[0;32m      3\u001b[0m     \u001b[39mreturn\u001b[39;00m data\u001b[39m.\u001b[39miloc[distances\u001b[39m.\u001b[39midxmin()]\n\u001b[1;32m----> 5\u001b[0m data[\u001b[39m'\u001b[39;49m\u001b[39m가장 가까운 버스정류장\u001b[39;49m\u001b[39m'\u001b[39;49m] \u001b[39m=\u001b[39m data\u001b[39m.\u001b[39mapply(\u001b[39mlambda\u001b[39;00m x : cloest_bus(x\u001b[39m.\u001b[39mgeometry), axis\u001b[39m=\u001b[39m\u001b[39m1\u001b[39m)\n",
      "File \u001b[1;32m~\\AppData\\Roaming\\Python\\Python310\\site-packages\\geopandas\\geodataframe.py:1443\u001b[0m, in \u001b[0;36mGeoDataFrame.__setitem__\u001b[1;34m(self, key, value)\u001b[0m\n\u001b[0;32m   1441\u001b[0m     \u001b[39mexcept\u001b[39;00m \u001b[39mTypeError\u001b[39;00m:\n\u001b[0;32m   1442\u001b[0m         warnings\u001b[39m.\u001b[39mwarn(\u001b[39m\"\u001b[39m\u001b[39mGeometry column does not contain geometry.\u001b[39m\u001b[39m\"\u001b[39m)\n\u001b[1;32m-> 1443\u001b[0m \u001b[39msuper\u001b[39;49m()\u001b[39m.\u001b[39;49m\u001b[39m__setitem__\u001b[39;49m(key, value)\n",
      "File \u001b[1;32m~\\AppData\\Roaming\\Python\\Python310\\site-packages\\pandas\\core\\frame.py:3645\u001b[0m, in \u001b[0;36mDataFrame.__setitem__\u001b[1;34m(self, key, value)\u001b[0m\n\u001b[0;32m   3643\u001b[0m     \u001b[39mself\u001b[39m\u001b[39m.\u001b[39m_setitem_array(key, value)\n\u001b[0;32m   3644\u001b[0m \u001b[39melif\u001b[39;00m \u001b[39misinstance\u001b[39m(value, DataFrame):\n\u001b[1;32m-> 3645\u001b[0m     \u001b[39mself\u001b[39;49m\u001b[39m.\u001b[39;49m_set_item_frame_value(key, value)\n\u001b[0;32m   3646\u001b[0m \u001b[39melif\u001b[39;00m (\n\u001b[0;32m   3647\u001b[0m     is_list_like(value)\n\u001b[0;32m   3648\u001b[0m     \u001b[39mand\u001b[39;00m \u001b[39mnot\u001b[39;00m \u001b[39mself\u001b[39m\u001b[39m.\u001b[39mcolumns\u001b[39m.\u001b[39mis_unique\n\u001b[0;32m   3649\u001b[0m     \u001b[39mand\u001b[39;00m \u001b[39m1\u001b[39m \u001b[39m<\u001b[39m \u001b[39mlen\u001b[39m(\u001b[39mself\u001b[39m\u001b[39m.\u001b[39mcolumns\u001b[39m.\u001b[39mget_indexer_for([key])) \u001b[39m==\u001b[39m \u001b[39mlen\u001b[39m(value)\n\u001b[0;32m   3650\u001b[0m ):\n\u001b[0;32m   3651\u001b[0m     \u001b[39m# Column to set is duplicated\u001b[39;00m\n\u001b[0;32m   3652\u001b[0m     \u001b[39mself\u001b[39m\u001b[39m.\u001b[39m_setitem_array([key], value)\n",
      "File \u001b[1;32m~\\AppData\\Roaming\\Python\\Python310\\site-packages\\pandas\\core\\frame.py:3788\u001b[0m, in \u001b[0;36mDataFrame._set_item_frame_value\u001b[1;34m(self, key, value)\u001b[0m\n\u001b[0;32m   3786\u001b[0m \u001b[39m# now align rows\u001b[39;00m\n\u001b[0;32m   3787\u001b[0m arraylike \u001b[39m=\u001b[39m _reindex_for_setitem(value, \u001b[39mself\u001b[39m\u001b[39m.\u001b[39mindex)\n\u001b[1;32m-> 3788\u001b[0m \u001b[39mself\u001b[39;49m\u001b[39m.\u001b[39;49m_set_item_mgr(key, arraylike)\n",
      "File \u001b[1;32m~\\AppData\\Roaming\\Python\\Python310\\site-packages\\pandas\\core\\frame.py:3802\u001b[0m, in \u001b[0;36mDataFrame._set_item_mgr\u001b[1;34m(self, key, value)\u001b[0m\n\u001b[0;32m   3799\u001b[0m     loc \u001b[39m=\u001b[39m \u001b[39mself\u001b[39m\u001b[39m.\u001b[39m_info_axis\u001b[39m.\u001b[39mget_loc(key)\n\u001b[0;32m   3800\u001b[0m \u001b[39mexcept\u001b[39;00m \u001b[39mKeyError\u001b[39;00m:\n\u001b[0;32m   3801\u001b[0m     \u001b[39m# This item wasn't present, just insert at end\u001b[39;00m\n\u001b[1;32m-> 3802\u001b[0m     \u001b[39mself\u001b[39;49m\u001b[39m.\u001b[39;49m_mgr\u001b[39m.\u001b[39;49minsert(\u001b[39mlen\u001b[39;49m(\u001b[39mself\u001b[39;49m\u001b[39m.\u001b[39;49m_info_axis), key, value)\n\u001b[0;32m   3803\u001b[0m \u001b[39melse\u001b[39;00m:\n\u001b[0;32m   3804\u001b[0m     \u001b[39mself\u001b[39m\u001b[39m.\u001b[39m_iset_item_mgr(loc, value)\n",
      "File \u001b[1;32m~\\AppData\\Roaming\\Python\\Python310\\site-packages\\pandas\\core\\internals\\managers.py:1245\u001b[0m, in \u001b[0;36mBlockManager.insert\u001b[1;34m(self, loc, item, value)\u001b[0m\n\u001b[0;32m   1243\u001b[0m     value \u001b[39m=\u001b[39m value\u001b[39m.\u001b[39mT\n\u001b[0;32m   1244\u001b[0m     \u001b[39mif\u001b[39;00m \u001b[39mlen\u001b[39m(value) \u001b[39m>\u001b[39m \u001b[39m1\u001b[39m:\n\u001b[1;32m-> 1245\u001b[0m         \u001b[39mraise\u001b[39;00m \u001b[39mValueError\u001b[39;00m(\n\u001b[0;32m   1246\u001b[0m             \u001b[39mf\u001b[39m\u001b[39m\"\u001b[39m\u001b[39mExpected a 1D array, got an array with shape \u001b[39m\u001b[39m{\u001b[39;00mvalue\u001b[39m.\u001b[39mT\u001b[39m.\u001b[39mshape\u001b[39m}\u001b[39;00m\u001b[39m\"\u001b[39m\n\u001b[0;32m   1247\u001b[0m         )\n\u001b[0;32m   1248\u001b[0m \u001b[39melse\u001b[39;00m:\n\u001b[0;32m   1249\u001b[0m     value \u001b[39m=\u001b[39m ensure_block_shape(value, ndim\u001b[39m=\u001b[39m\u001b[39mself\u001b[39m\u001b[39m.\u001b[39mndim)\n",
      "\u001b[1;31mValueError\u001b[0m: Expected a 1D array, got an array with shape (1370, 13)"
     ]
    }
   ],
   "source": [
    "def cloest_bus(point_geometry):\n",
    "    distances = data.geometry.distance(point_geometry)\n",
    "    return data.iloc[distances.idxmin()]\n",
    "\n",
    "data['가장 가까운 버스정류장'] = data.apply(lambda x : cloest_bus(x.geometry), axis=1)"
   ]
  },
  {
   "cell_type": "code",
   "execution_count": 103,
   "metadata": {},
   "outputs": [
    {
     "data": {
      "text/plain": [
       "<bound method NDFrame.tail of                 정류장명                        geometry\n",
       "0            종로2가사거리  POINT (954764.170 1952389.590)\n",
       "1        창경궁.서울대학교병원  POINT (955548.315 1953430.252)\n",
       "2          명륜3가.성대입구  POINT (955707.030 1953816.403)\n",
       "3           종로2가.삼일교  POINT (954751.372 1952258.086)\n",
       "4      혜화동로터리.여운형활동터  POINT (956009.674 1954211.089)\n",
       "...              ...                             ...\n",
       "12938        청계산(경유)  POINT (961124.365 1937981.637)\n",
       "12939       판교IC(경유)  POINT (964647.375 1933505.644)\n",
       "12940       판교IC(경유)  POINT (964461.846 1933679.615)\n",
       "12941      오도삼거리(경유)  POINT (932036.919 1971931.294)\n",
       "12942       난방공사(경유)  POINT (931147.592 1971009.203)\n",
       "\n",
       "[12943 rows x 2 columns]>"
      ]
     },
     "execution_count": 103,
     "metadata": {},
     "output_type": "execute_result"
    }
   ],
   "source": [
    "bus.tail"
   ]
  },
  {
   "cell_type": "code",
   "execution_count": null,
   "metadata": {},
   "outputs": [],
   "source": []
  },
  {
   "cell_type": "code",
   "execution_count": null,
   "metadata": {},
   "outputs": [],
   "source": [
    "colest_bus = "
   ]
  },
  {
   "cell_type": "code",
   "execution_count": null,
   "metadata": {},
   "outputs": [],
   "source": [
    "# # 고덕119안전센터는 강동구 안에 있다.  \n",
    "# print(pt_119.geometry[17].within(seoul_area.geometry[0]))\n",
    "\n",
    "# # 강동구 안에는 고덕119안전센터가 있다.  \n",
    "# print(seoul_area.geometry[0].contains(pt_119.geometry[17]))"
   ]
  },
  {
   "cell_type": "code",
   "execution_count": null,
   "metadata": {},
   "outputs": [],
   "source": []
  }
 ],
 "metadata": {
  "kernelspec": {
   "display_name": "Python 3",
   "language": "python",
   "name": "python3"
  },
  "language_info": {
   "codemirror_mode": {
    "name": "ipython",
    "version": 3
   },
   "file_extension": ".py",
   "mimetype": "text/x-python",
   "name": "python",
   "nbconvert_exporter": "python",
   "pygments_lexer": "ipython3",
   "version": "3.10.3"
  },
  "orig_nbformat": 4,
  "vscode": {
   "interpreter": {
    "hash": "26de051ba29f2982a8de78e945f0abaf191376122a1563185a90213a26c5da77"
   }
  }
 },
 "nbformat": 4,
 "nbformat_minor": 2
}
